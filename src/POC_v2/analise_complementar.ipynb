{
 "cells": [
  {
   "cell_type": "code",
   "execution_count": 1,
   "id": "9a1d1fa6-5026-4646-a62e-8517309eaff4",
   "metadata": {},
   "outputs": [],
   "source": [
    "from SheetsConversor import SheetsConversor\n",
    "from Complete import CompleteCalculator\n",
    "from alive_progress import alive_bar"
   ]
  },
  {
   "cell_type": "code",
   "execution_count": 2,
   "id": "67827bc5-2b19-4152-a8af-b8e30407173e",
   "metadata": {},
   "outputs": [
    {
     "name": "stdout",
     "output_type": "stream",
     "text": [
      "Reading ../sheets-plus/UFPR.xlsx...\n",
      "Reading ../sheets-plus/UFMG_II.xlsx...\n",
      "Reading ../sheets-plus/UFRA.xlsx...\n",
      "Reading ../sheets-plus/UFMG_I.xlsx...\n",
      "Reading ../sheets-plus/UFFS.xlsx...\n",
      "Reading ../sheets-plus/UFAL.xlsx...\n",
      "Reading ../sheets-plus/UFSJ.xlsx...\n",
      "Reading ../sheets-plus/UFCA.xlsx...\n",
      "Reading ../sheets-plus/UFJF.xlsx...\n",
      "Reading ../sheets-plus/UFOP.xlsx...\n",
      "Reading ../sheets-plus/UFMS.xlsx...\n",
      "Reading ../sheets-plus/UFRGS.xlsx...\n",
      "Done! 130 UCs conveted!\n"
     ]
    }
   ],
   "source": [
    "conversor = SheetsConversor('../sheets-plus/')\n",
    "ucs, mods, contract = conversor.convert()"
   ]
  },
  {
   "cell_type": "code",
   "execution_count": 9,
   "id": "a75f50e8-4057-4309-b870-34dd81880a9c",
   "metadata": {},
   "outputs": [],
   "source": [
    "def get_data(n):\n",
    "    count_g, count_b = 0, 0\n",
    "    \n",
    "    with alive_bar(len(ucs), force_tty=True) as bar:\n",
    "        for uc in ucs:\n",
    "            complete_calculator = CompleteCalculator(n, ucs[uc])\n",
    "            result = complete_calculator.run(save=True, partial=True)\n",
    "            green, blue = complete_calculator.get_patterns()\n",
    "\n",
    "            a, c = 0, 0\n",
    "            for g, b in zip(green, blue):\n",
    "                a += 1 if round(result['green'][1],2) == round(g[0],2) else 0\n",
    "                c += 1 if round(result['blue'][2],2) == round(b[0],2) else 0\n",
    "\n",
    "            count_g += 1 if a > 1 else 0\n",
    "            count_b += 1 if c > 1 else 0\n",
    "            \n",
    "            bar()\n",
    "\n",
    "    return (count_g/len(ucs), count_b/len(ucs))"
   ]
  },
  {
   "cell_type": "code",
   "execution_count": 8,
   "id": "381b484f-5a0f-4041-8895-6c455ca19d8c",
   "metadata": {},
   "outputs": [
    {
     "name": "stdout",
     "output_type": "stream",
     "text": [
      "Getting for 6 months...\n",
      "|████████████████████████████████████████| 130/130 [100%] in 6:01.4 (0.35/s)    \n",
      "\tResult: (0.7538461538461538, 0.015384615384615385)\n",
      "Getting for 7 months...\n",
      "|████████████████████████████████████████| 130/130 [100%] in 6:47.0 (0.31/s)    ▅▇ 4/130 [3%] in 0s (~12s, 13.0/s) \n",
      "\tResult: (0.0, 0.0)\n",
      "Getting for 8 months...\n",
      "|████████████████████████████████████████| 130/130 [100%] in 7:32.9 (0.28/s)     ▇▅▃ 116/130 [89%] in 1:51 (~13s, 1.1/\n",
      "\tResult: (0.0, 0.0)\n",
      "Getting for 9 months...\n",
      "|████████████████████████████████████████| 130/130 [100%] in 8:04.5 (0.26/s)    \n",
      "\tResult: (0.676923076923077, 0.007692307692307693)\n",
      "Getting for 10 months...\n",
      "|████████████████████████████████████████| 130/130 [100%] in 8:44.8 (0.24/s)    \n",
      "\tResult: (0.0, 0.0)\n",
      "Getting for 11 months...\n",
      "|████████████████████████████████████████| 130/130 [100%] in 9:21.3 (0.22/s)    \n",
      "\tResult: (0.0, 0.0)\n",
      "Getting for 12 months...\n",
      "|████████████████████████████████████████| 130/130 [100%] in 9:56.0 (0.21/s)    \n",
      "\tResult: (0.7153846153846154, 0.0)\n",
      "{6: (0.7538461538461538, 0.015384615384615385), 7: (0.0, 0.0), 8: (0.0, 0.0), 9: (0.676923076923077, 0.007692307692307693), 10: (0.0, 0.0), 11: (0.0, 0.0), 12: (0.7153846153846154, 0.0)}\n"
     ]
    }
   ],
   "source": [
    "res = {}\n",
    "for i in range(6, 13):\n",
    "    print(f\"Getting for {i} months...\", flush=True)\n",
    "    res.update({i: get_data(i)})\n",
    "    print(f\"\\tResult: {res[i]}\", flush=True)\n",
    "\n",
    "print(res)"
   ]
  },
  {
   "cell_type": "code",
   "execution_count": 10,
   "id": "73639850-7b86-42e5-aa29-f5ee8d94165f",
   "metadata": {},
   "outputs": [
    {
     "name": "stdout",
     "output_type": "stream",
     "text": [
      "Getting for 6 months...\n",
      "|████████████████████████████████████████| 130/130 [100%] in 5:45.6 (0.37/s)    \n",
      "\tResult: (0.7538461538461538, 0.015384615384615385)\n",
      "Getting for 7 months...\n",
      "|████████████████████████████████████████| 130/130 [100%] in 7:01.1 (0.30/s)    \n",
      "\tResult: (0.0, 0.0)\n",
      "Getting for 8 months...\n",
      "|████████████████████████████████████████| 130/130 [100%] in 7:39.1 (0.28/s)    \n",
      "\tResult: (0.0, 0.0)\n",
      "Getting for 9 months...\n",
      "|████████████████████████████████████████| 130/130 [100%] in 8:03.9 (0.26/s)    \n",
      "\tResult: (0.676923076923077, 0.007692307692307693)\n",
      "Getting for 10 months...\n",
      "|████████████████████████████████████████| 130/130 [100%] in 8:37.8 (0.25/s)    \n",
      "\tResult: (0.0, 0.0)\n",
      "Getting for 11 months...\n",
      "|████████████████████████████████████████| 130/130 [100%] in 9:38.3 (0.22/s)    \n",
      "\tResult: (0.0, 0.0)\n",
      "Getting for 12 months...\n",
      "|████████████████████████████████████████| 130/130 [100%] in 13:52.1 (0.15/s)   \n",
      "\tResult: (0.7153846153846154, 0.0)\n",
      "{6: (0.7538461538461538, 0.015384615384615385), 7: (0.0, 0.0), 8: (0.0, 0.0), 9: (0.676923076923077, 0.007692307692307693), 10: (0.0, 0.0), 11: (0.0, 0.0), 12: (0.7153846153846154, 0.0)}\n"
     ]
    }
   ],
   "source": [
    "res = {}\n",
    "for i in range(6, 13):\n",
    "    print(f\"Getting for {i} months...\", flush=True)\n",
    "    res.update({i: get_data(i)})\n",
    "    print(f\"\\tResult: {res[i]}\", flush=True)\n",
    "\n",
    "print(res)"
   ]
  },
  {
   "cell_type": "code",
   "execution_count": 13,
   "id": "98ad9073-9696-407c-88cd-b1b3c7b2c972",
   "metadata": {},
   "outputs": [],
   "source": [
    "def get_data_V2(n):\n",
    "    count_g, count_b = 0, 0\n",
    "    \n",
    "    with alive_bar(len(ucs), force_tty=True) as bar:\n",
    "        for uc in ucs:\n",
    "            complete_calculator = CompleteCalculator(n, ucs[uc])\n",
    "            _ = complete_calculator.run(save=True, partial=True)\n",
    "            green, blue = complete_calculator.get_patterns()\n",
    "\n",
    "            g_v = [ g[0] for g in green ]\n",
    "            b_v = [ b[0] for b in blue ]\n",
    "            \n",
    "            count_g += 1 if g_v.count(min(g_v)) > 1 else 0\n",
    "            count_b += 1 if b_v.count(min(b_v)) > 1 else 0\n",
    "            \n",
    "            bar()\n",
    "\n",
    "    return (count_g/len(ucs), count_b/len(ucs))"
   ]
  },
  {
   "cell_type": "code",
   "execution_count": 14,
   "id": "e9373633-b356-4bea-89ee-283db4c34d52",
   "metadata": {},
   "outputs": [
    {
     "name": "stdout",
     "output_type": "stream",
     "text": [
      "Getting for 6 months...\n",
      "|████████████████████████████████████████| 130/130 [100%] in 9:23.6 (0.22/s)    \n",
      "\tResult: (0.7538461538461538, 0.9)\n",
      "Getting for 7 months...\n",
      "|████████████████████████████████████████| 130/130 [100%] in 10:33.5 (0.20/s)   \n",
      "\tResult: (0.0, 0.0)\n",
      "Getting for 8 months...\n",
      "|████████████████████████████████████████| 130/130 [100%] in 11:19.7 (0.19/s)   \n",
      "\tResult: (0.0, 0.0)\n",
      "Getting for 9 months...\n",
      "|████████████████████████████████████████| 130/130 [100%] in 11:47.6 (0.18/s)   \n",
      "\tResult: (0.676923076923077, 0.8538461538461538)\n",
      "Getting for 10 months...\n",
      "|████████████████████████████████████████| 130/130 [100%] in 12:58.7 (0.16/s)   \n",
      "\tResult: (0.0, 0.0)\n",
      "Getting for 11 months...\n",
      "|████████████████████████████████████████| 130/130 [100%] in 14:01.5 (0.15/s)    ▄▆█ 81/130 [62%] in 1:18 (~47s, 1.0/s\n",
      "\tResult: (0.0, 0.0)\n",
      "Getting for 12 months...\n",
      "|████████████████████████████████████████| 130/130 [100%] in 11:14.8 (0.19/s)   \n",
      "\tResult: (0.7153846153846154, 0.8615384615384616)\n",
      "{6: (0.7538461538461538, 0.9), 7: (0.0, 0.0), 8: (0.0, 0.0), 9: (0.676923076923077, 0.8538461538461538), 10: (0.0, 0.0), 11: (0.0, 0.0), 12: (0.7153846153846154, 0.8615384615384616)}\n"
     ]
    }
   ],
   "source": [
    "res = {}\n",
    "for i in range(6, 13):\n",
    "    print(f\"Getting for {i} months...\", flush=True)\n",
    "    res.update({i: get_data_V2(i)})\n",
    "    print(f\"\\tResult: {res[i]}\", flush=True)\n",
    "\n",
    "print(res)"
   ]
  },
  {
   "cell_type": "code",
   "execution_count": null,
   "id": "12f44449-1663-4c97-a20c-f446b527178b",
   "metadata": {},
   "outputs": [],
   "source": []
  }
 ],
 "metadata": {
  "kernelspec": {
   "display_name": "Python 3 (ipykernel)",
   "language": "python",
   "name": "python3"
  },
  "language_info": {
   "codemirror_mode": {
    "name": "ipython",
    "version": 3
   },
   "file_extension": ".py",
   "mimetype": "text/x-python",
   "name": "python",
   "nbconvert_exporter": "python",
   "pygments_lexer": "ipython3",
   "version": "3.11.6"
  }
 },
 "nbformat": 4,
 "nbformat_minor": 5
}
