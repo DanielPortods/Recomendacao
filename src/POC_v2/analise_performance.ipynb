{
 "cells": [
  {
   "cell_type": "code",
   "execution_count": 1,
   "id": "4f051975-9d82-4d96-af57-adf249688b5e",
   "metadata": {},
   "outputs": [],
   "source": [
    "from global_search_recommendation.BioInspiredRecomendation import BioInspiredRecomendation\n",
    "from percentile_recommendation.current_calculator import RecommendationCalculator\n",
    "from SheetsConversor import SheetsConversor\n",
    "from Complete import CompleteCalculator\n",
    "import matplotlib.pyplot as plt\n",
    "from statsmodels.tsa.seasonal import STL\n",
    "import pandas as pd\n",
    "\n",
    "import warnings\n",
    "import time\n",
    "\n",
    "from commons.Tariff import BlueTariff, GreenTariff"
   ]
  },
  {
   "cell_type": "code",
   "execution_count": 2,
   "id": "1e81bb58-1b43-4a1f-8911-1f28569d4973",
   "metadata": {},
   "outputs": [
    {
     "name": "stdout",
     "output_type": "stream",
     "text": [
      "Reading ../sheets-plus/UFPR.xlsx...\n",
      "Reading ../sheets-plus/UFMG_II.xlsx...\n",
      "Reading ../sheets-plus/UFRA.xlsx...\n",
      "Reading ../sheets-plus/UFMG_I.xlsx...\n",
      "Reading ../sheets-plus/UFFS.xlsx...\n",
      "Reading ../sheets-plus/UFAL.xlsx...\n",
      "Reading ../sheets-plus/UFSJ.xlsx...\n",
      "Reading ../sheets-plus/UFCA.xlsx...\n",
      "Reading ../sheets-plus/UFJF.xlsx...\n",
      "Reading ../sheets-plus/UFOP.xlsx...\n",
      "Reading ../sheets-plus/UFMS.xlsx...\n",
      "Reading ../sheets-plus/UFRGS.xlsx...\n",
      "Done! 130 UCs conveted!\n"
     ]
    }
   ],
   "source": [
    "conversor = SheetsConversor('../sheets-plus/')\n",
    "ucs, mods, contract = conversor.convert()"
   ]
  },
  {
   "cell_type": "code",
   "execution_count": 5,
   "id": "57f2a617-4c8f-4c43-88c6-3aedb36aa799",
   "metadata": {},
   "outputs": [],
   "source": [
    "from alive_progress import alive_bar\n",
    "RESULT_HEADERS = ['method', 'flag', 'peak', 'off_peak', 'unique', 'cost', 'num_months', 'time']\n",
    "\n",
    "def do_calculations(n: int, it_only=False):\n",
    "\n",
    "    results = {}\n",
    "\n",
    "    with alive_bar(len(ucs), force_tty=True) as bar:\n",
    "        for k in ucs:\n",
    "            result_frame = pd.DataFrame(columns=RESULT_HEADERS)\n",
    "\n",
    "            cm = RecommendationCalculator(ucs[k].head(n), mods[k], BlueTariff(), GreenTariff(), n)\n",
    "            result_frame.loc[len(result_frame)] = cm.calculate()\n",
    "            \n",
    "            if not it_only:\n",
    "                cm = RecommendationCalculator(ucs[k].head(n), mods[k], BlueTariff(), GreenTariff(), n)\n",
    "                result_frame.loc[len(result_frame)] = cm.calculate()\n",
    "\n",
    "            bio_inspired = BioInspiredRecomendation(n, pd.DataFrame(ucs[k]), num_pop=10)\n",
    "\n",
    "            if not it_only:\n",
    "                result_frame.loc[len(result_frame)] = bio_inspired.do_PSO()\n",
    "                result_frame.loc[len(result_frame)] = bio_inspired.do_GA()\n",
    "            \n",
    "            result_frame.loc[len(result_frame)] = bio_inspired.do_PSO(iterative=True)\n",
    "            result_frame.loc[len(result_frame)] = bio_inspired.do_GA(iterative=True)\n",
    "\n",
    "            if not it_only:\n",
    "                complete_calculator = CompleteCalculator(n, ucs[k])\n",
    "                result_frame.loc[len(result_frame)] = complete_calculator.run()\n",
    "    \n",
    "            results[k] = result_frame\n",
    "            bar()\n",
    "            \n",
    "    return results"
   ]
  },
  {
   "cell_type": "code",
   "execution_count": 6,
   "id": "f5238412-bc20-4d74-99e1-8b512c71238a",
   "metadata": {},
   "outputs": [],
   "source": [
    "def get_methods_time_perf(results):\n",
    "    headers = results['../sheets-plus/UFMS.xlsx - 109001794-8'].method\n",
    "    times = pd.DataFrame(columns=headers)\n",
    "\n",
    "    for r in results:\n",
    "        result = results[r].drop(columns=['method', 'flag', 'peak', 'off_peak', 'unique', 'cost', 'num_months'])\n",
    "        times.loc[len(times)] = result.T.values[0]\n",
    "    \n",
    "    return [ {h:times[h].mean()} for h in headers ]"
   ]
  },
  {
   "cell_type": "code",
   "execution_count": 5,
   "id": "eca4e4b7-5912-40fd-8111-edac8f163c64",
   "metadata": {},
   "outputs": [
    {
     "name": "stdout",
     "output_type": "stream",
     "text": [
      "Calculating to 6 months...\n",
      "|████████████████████████████████████████| 130/130 [100%] in 17:14.6 (0.13/s)   ▆ 0/130 [0%] in 0s (~0s, 0.0/s) \n",
      "Calculating to 7 months...\n",
      "|████████████████████████████████████████| 130/130 [100%] in 26:46.7 (0.08/s)   \n",
      "Calculating to 8 months...\n",
      "|████████████████████████████████████████| 130/130 [100%] in 27:07.7 (0.08/s)   \n",
      "Calculating to 9 months...\n",
      "|████████████████████████████████████████| 130/130 [100%] in 19:59.0 (0.11/s)   \n",
      "Calculating to 10 months...\n",
      "|████████████████████████████████████████| 130/130 [100%] in 28:12.2 (0.08/s)   \n",
      "Calculating to 11 months...\n",
      "|████████████████████████████████████████| 130/130 [100%] in 28:51.8 (0.07/s)   ▆ 0/130 [0%] in 4s (~0s, 0.0/s)  ▇▇▅ 0/130 [0%] in 9s (~0s, 0.0/s) \n",
      "Calculating to 12 months...\n",
      "|████████████████████████████████████████| 130/130 [100%] in 22:27.1 (0.10/s)   \n"
     ]
    }
   ],
   "source": [
    "warnings.filterwarnings('ignore')\n",
    "\n",
    "results_per_range = []\n",
    "for n in range(6, 13):\n",
    "    print(f\"Calculating to {n} months...\", flush=True)\n",
    "    results_per_range.append(do_calculations(n))"
   ]
  },
  {
   "cell_type": "code",
   "execution_count": 6,
   "id": "4bc4c443-67f8-4ef7-9f26-457d4d6eb754",
   "metadata": {},
   "outputs": [
    {
     "name": "stdout",
     "output_type": "stream",
     "text": [
      "Médias de tempo de execução (segundos)\n",
      "\n",
      "\tUtilizando 6 meses de histórico\n",
      "\t\tPercentil: 0.0000405458\n",
      "\t\tPSO:       3.46\n",
      "\t\tGA:        1.50\n",
      "\t\tPSO-it:    0.13\n",
      "\t\tGA-it:     0.08\n",
      "\t\tCompleto:  2.71\n",
      "\n",
      "\tUtilizando 7 meses de histórico\n",
      "\t\tPercentil: 0.0000401772\n",
      "\t\tPSO:       7.07\n",
      "\t\tGA:        1.87\n",
      "\t\tPSO-it:    0.21\n",
      "\t\tGA-it:     0.10\n",
      "\t\tCompleto:  3.03\n",
      "\n",
      "\tUtilizando 8 meses de histórico\n",
      "\t\tPercentil: 0.0000405660\n",
      "\t\tPSO:       6.99\n",
      "\t\tGA:        1.86\n",
      "\t\tPSO-it:    0.22\n",
      "\t\tGA-it:     0.11\n",
      "\t\tCompleto:  3.27\n",
      "\n",
      "\tUtilizando 9 meses de histórico\n",
      "\t\tPercentil: 0.0000393042\n",
      "\t\tPSO:       3.82\n",
      "\t\tGA:        1.55\n",
      "\t\tPSO-it:    0.17\n",
      "\t\tGA-it:     0.09\n",
      "\t\tCompleto:  3.51\n",
      "\n",
      "\tUtilizando 10 meses de histórico\n",
      "\t\tPercentil: 0.0000405843\n",
      "\t\tPSO:       6.93\n",
      "\t\tGA:        1.83\n",
      "\t\tPSO-it:    0.25\n",
      "\t\tGA-it:     0.12\n",
      "\t\tCompleto:  3.81\n",
      "\n",
      "\tUtilizando 11 meses de histórico\n",
      "\t\tPercentil: 0.0000396563\n",
      "\t\tPSO:       6.91\n",
      "\t\tGA:        1.86\n",
      "\t\tPSO-it:    0.25\n",
      "\t\tGA-it:     0.12\n",
      "\t\tCompleto:  4.10\n",
      "\n",
      "\tUtilizando 12 meses de histórico\n",
      "\t\tPercentil: 0.0000400066\n",
      "\t\tPSO:       4.01\n",
      "\t\tGA:        1.62\n",
      "\t\tPSO-it:    0.20\n",
      "\t\tGA-it:     0.11\n",
      "\t\tCompleto:  4.34\n",
      "\n"
     ]
    }
   ],
   "source": [
    "times = {}\n",
    "n = 6\n",
    "for r in results_per_range:\n",
    "    times.update({n:get_methods_time_perf(r)})\n",
    "    n += 1\n",
    "\n",
    "print('Médias de tempo de execução (segundos)\\n')\n",
    "for i in range (6, 13):\n",
    "    print(f'\\tUtilizando {i} meses de histórico')\n",
    "    time = times[i]\n",
    "    print(f\"\\t\\tPercentil: {time[0]['Percentil']:.10f}\")\n",
    "    print(f\"\\t\\tPSO:       {time[1]['PSO']:.2f}\")\n",
    "    print(f\"\\t\\tGA:        {time[2]['GA']:.2f}\")\n",
    "    print(f\"\\t\\tPSO-it:    {time[3]['PSO-it']:.2f}\")\n",
    "    print(f\"\\t\\tGA-it:     {time[4]['GA-it']:.2f}\")\n",
    "    print(f\"\\t\\tCompleto:  {time[5]['Completo']:.2f}\\n\")"
   ]
  },
  {
   "cell_type": "code",
   "execution_count": 7,
   "id": "f7fd6723-c032-4a32-9bab-ffe518cf8d87",
   "metadata": {},
   "outputs": [
    {
     "name": "stdout",
     "output_type": "stream",
     "text": [
      "Calculating to 6 months...\n",
      "|████████████████████████████████████████| 130/130 [100%] in 21.3s (6.09/s)     \n",
      "Calculating to 7 months...\n",
      "|████████████████████████████████████████| 130/130 [100%] in 21.8s (5.96/s)     \n",
      "Calculating to 8 months...\n",
      "|████████████████████████████████████████| 130/130 [100%] in 22.7s (5.73/s)     \n",
      "Calculating to 9 months...\n",
      "|████████████████████████████████████████| 130/130 [100%] in 24.4s (5.30/s)     \n",
      "Calculating to 10 months...\n",
      "|████████████████████████████████████████| 130/130 [100%] in 24.1s (5.38/s)     \n",
      "Calculating to 11 months...\n",
      "|████████████████████████████████████████| 130/130 [100%] in 24.9s (5.20/s)     \n",
      "Calculating to 12 months...\n",
      "|████████████████████████████████████████| 130/130 [100%] in 26.1s (4.96/s)     \n"
     ]
    }
   ],
   "source": [
    "warnings.filterwarnings('ignore')\n",
    "\n",
    "results_per_range = []\n",
    "for n in range(6, 13):\n",
    "    print(f\"Calculating to {n} months...\", flush=True)\n",
    "    results_per_range.append(do_calculations(n, it_only=True))"
   ]
  },
  {
   "cell_type": "code",
   "execution_count": 8,
   "id": "3dc93b99-edb8-4c22-b3dc-4abcc523163e",
   "metadata": {},
   "outputs": [
    {
     "name": "stdout",
     "output_type": "stream",
     "text": [
      "Médias de tempo de execução (segundos)\n",
      "\n",
      "\tUtilizando 6 meses de histórico\n",
      "\t\tPSO-it:    0.18\n",
      "\t\tGA-it:     0.10\n",
      "\tUtilizando 7 meses de histórico\n",
      "\t\tPSO-it:    0.19\n",
      "\t\tGA-it:     0.10\n",
      "\tUtilizando 8 meses de histórico\n",
      "\t\tPSO-it:    0.21\n",
      "\t\tGA-it:     0.10\n",
      "\tUtilizando 9 meses de histórico\n",
      "\t\tPSO-it:    0.23\n",
      "\t\tGA-it:     0.12\n",
      "\tUtilizando 10 meses de histórico\n",
      "\t\tPSO-it:    0.26\n",
      "\t\tGA-it:     0.12\n",
      "\tUtilizando 11 meses de histórico\n",
      "\t\tPSO-it:    0.26\n",
      "\t\tGA-it:     0.12\n",
      "\tUtilizando 12 meses de histórico\n",
      "\t\tPSO-it:    0.28\n",
      "\t\tGA-it:     0.14\n"
     ]
    }
   ],
   "source": [
    "times = {}\n",
    "n = 6\n",
    "for r in results_per_range:\n",
    "    times.update({n:get_methods_time_perf(r)})\n",
    "    n += 1\n",
    "\n",
    "print('Médias de tempo de execução (segundos)\\n')\n",
    "for i in range (6, 13):\n",
    "    print(f'\\tUtilizando {i} meses de histórico')\n",
    "    time = times[i]\n",
    "    print(f\"\\t\\tPSO-it:    {time[0]['PSO-it']:.2f}\")\n",
    "    print(f\"\\t\\tGA-it:     {time[1]['GA-it']:.2f}\")"
   ]
  },
  {
   "cell_type": "code",
   "execution_count": 10,
   "id": "584ed7ee-1120-45fe-ac45-96a587988c5b",
   "metadata": {},
   "outputs": [
    {
     "name": "stdout",
     "output_type": "stream",
     "text": [
      "Médias de tempo de execução (milisegundos)\n",
      "\n",
      "\tUtilizando 6 meses de histórico\n",
      "\t\tpercentil: 7.23\n",
      "\t\tPSO-it:    4.75\n",
      "\t\tGA-it:     3.98\n",
      "\tUtilizando 7 meses de histórico\n",
      "\t\tpercentil: 7.35\n",
      "\t\tPSO-it:    5.00\n",
      "\t\tGA-it:     3.96\n",
      "\tUtilizando 8 meses de histórico\n",
      "\t\tpercentil: 7.38\n",
      "\t\tPSO-it:    5.31\n",
      "\t\tGA-it:     4.31\n",
      "\tUtilizando 9 meses de histórico\n",
      "\t\tpercentil: 7.50\n",
      "\t\tPSO-it:    5.90\n",
      "\t\tGA-it:     4.95\n",
      "\tUtilizando 10 meses de histórico\n",
      "\t\tpercentil: 7.33\n",
      "\t\tPSO-it:    6.20\n",
      "\t\tGA-it:     4.58\n",
      "\tUtilizando 11 meses de histórico\n",
      "\t\tpercentil: 7.35\n",
      "\t\tPSO-it:    6.34\n",
      "\t\tGA-it:     5.04\n",
      "\tUtilizando 12 meses de histórico\n",
      "\t\tpercentil: 7.48\n",
      "\t\tPSO-it:    6.79\n",
      "\t\tGA-it:     5.39\n"
     ]
    }
   ],
   "source": [
    "times = {}\n",
    "n = 6\n",
    "for r in results_per_range:\n",
    "    times.update({n:get_methods_time_perf(r)})\n",
    "    n += 1\n",
    "\n",
    "print('Médias de tempo de execução (milisegundos)\\n')\n",
    "for i in range (6, 13):\n",
    "    print(f'\\tUtilizando {i} meses de histórico')\n",
    "    time = times[i]\n",
    "    #print(time)\n",
    "    print(f\"\\t\\tpercentil: {time[0]['Percentil']*100:.2f}\")\n",
    "    print(f\"\\t\\tPSO-it:    {time[1]['PSO-it']*100:.2f}\")\n",
    "    print(f\"\\t\\tGA-it:     {time[2]['GA-it']*100:.2f}\")"
   ]
  },
  {
   "cell_type": "code",
   "execution_count": null,
   "id": "d00eb4e7-2a48-45e9-aa1c-db762a470b13",
   "metadata": {},
   "outputs": [],
   "source": []
  }
 ],
 "metadata": {
  "kernelspec": {
   "display_name": "Python 3 (ipykernel)",
   "language": "python",
   "name": "python3"
  },
  "language_info": {
   "codemirror_mode": {
    "name": "ipython",
    "version": 3
   },
   "file_extension": ".py",
   "mimetype": "text/x-python",
   "name": "python",
   "nbconvert_exporter": "python",
   "pygments_lexer": "ipython3",
   "version": "3.11.6"
  }
 },
 "nbformat": 4,
 "nbformat_minor": 5
}
